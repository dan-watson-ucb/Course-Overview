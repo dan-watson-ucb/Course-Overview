{
 "cells": [
  {
   "cell_type": "markdown",
   "metadata": {},
   "source": [
    "# Arrays\n",
    "\n",
    "The Python types we have seen so far are all built into Python; this means that they are automatically available when you start writing Python code. As with any modern language, however, programmers are always adding new functionality to Python and they often want to share their code with others.  The main way this is done is with packages.\n",
    "\n",
    "A package contains extra object types, functions, and variables that are not included in base Python. Some packages are specialized to niche applications, while others are so popular that nearly every coder uses them.\n",
    "\n",
    "One particular package, NumPy, sits as the foundation for scientific and data computing in Python. Many other data science packages are built on top of NumPy, so it is very important to understand its function.\n",
    "\n",
    "[NumPy](http://www.numpy.org/) is the core of the [PyData](http://pydata.org/) ecosystem.\n",
    "\n",
    "------\n",
    "\n",
    "*From the NumPy Website*\n",
    "\n",
    "NumPy is the fundamental package for scientific computing with Python. It contains among other things:\n",
    "\n",
    "- a powerful N-dimensional array object\n",
    "- sophisticated (broadcasting) functions\n",
    "- tools for integrating C/C++ and Fortran code\n",
    "- useful linear algebra, Fourier transform, and random number capabilities\n",
    "\n",
    "------\n",
    "\n",
    "We often use NumPy to work with data. In this notebook, we will begin introducing its functionality with a few simple examples.\n",
    "\n",
    "To use the functionality provided by a package, we first have to import it into our program.  This is done with the `import` keyword. At the point at which we import a package, we can also rename it with the `as` keyword. Traditionally, `numpy` is renamed `np`. The reason that we do this is that there is a convention in the PyData community to import data packages with shorter names.\n"
   ]
  },
  {
   "cell_type": "code",
   "execution_count": 1,
   "metadata": {
    "collapsed": false
   },
   "outputs": [],
   "source": [
    "import numpy as np"
   ]
  },
  {
   "cell_type": "code",
   "execution_count": 2,
   "metadata": {
    "collapsed": false
   },
   "outputs": [
    {
     "data": {
      "text/plain": [
       "array([ 0,  1,  2,  3,  4,  5,  6,  7,  8,  9, 10, 11, 12, 13, 14, 15, 16,\n",
       "       17, 18, 19])"
      ]
     },
     "execution_count": 2,
     "metadata": {},
     "output_type": "execute_result"
    }
   ],
   "source": [
    "np.arange(0,20)"
   ]
  },
  {
   "cell_type": "markdown",
   "metadata": {},
   "source": [
    "This should look pretty familiar; the `arange` function is analogous to the `range` function we saw earlier. Instead of returning a range, however, this function returns something we call an *array*.\n",
    "\n",
    "Arrays are similar to the sequences we saw earlier. For example, we can access items by their indices."
   ]
  },
  {
   "cell_type": "code",
   "execution_count": 3,
   "metadata": {
    "collapsed": false
   },
   "outputs": [
    {
     "data": {
      "text/plain": [
       "array([ 0,  1, 12,  3,  4,  5,  6,  7,  8,  9, 10, 11, 12, 13, 14, 15, 16,\n",
       "       17, 18, 19])"
      ]
     },
     "execution_count": 3,
     "metadata": {},
     "output_type": "execute_result"
    }
   ],
   "source": [
    "my_array = np.arange(20)\n",
    "my_array[2] = 12\n",
    "my_array"
   ]
  },
  {
   "cell_type": "markdown",
   "metadata": {},
   "source": [
    "Arrays also have some unique characteristics.  For one thing, all the objects contained in an array must be the same type.  This may seem like a pesky restriction, but it allows arrays to work very efficiently on large amounts of data."
   ]
  },
  {
   "cell_type": "code",
   "execution_count": 4,
   "metadata": {
    "collapsed": false
   },
   "outputs": [
    {
     "ename": "ValueError",
     "evalue": "invalid literal for int() with base 10: 'shoe'",
     "output_type": "error",
     "traceback": [
      "\u001b[0;31m---------------------------------------------------------------------------\u001b[0m",
      "\u001b[0;31mValueError\u001b[0m                                Traceback (most recent call last)",
      "\u001b[0;32m<ipython-input-4-7b56afc93f6f>\u001b[0m in \u001b[0;36m<module>\u001b[0;34m()\u001b[0m\n\u001b[0;32m----> 1\u001b[0;31m \u001b[0mmy_array\u001b[0m\u001b[0;34m[\u001b[0m\u001b[0;36m5\u001b[0m\u001b[0;34m]\u001b[0m \u001b[0;34m=\u001b[0m \u001b[0;34m\"shoe\"\u001b[0m\u001b[0;34m\u001b[0m\u001b[0m\n\u001b[0m",
      "\u001b[0;31mValueError\u001b[0m: invalid literal for int() with base 10: 'shoe'"
     ]
    }
   ],
   "source": [
    "my_array[5] = \"shoe\""
   ]
  },
  {
   "cell_type": "markdown",
   "metadata": {},
   "source": [
    "The data type of an array can be accessed through the `dtype` property; this will give us information about all the objects stored in the array. That means that you cannot change the type of an array once it is created (unless you work around this)."
   ]
  },
  {
   "cell_type": "code",
   "execution_count": 5,
   "metadata": {
    "collapsed": false
   },
   "outputs": [
    {
     "data": {
      "text/plain": [
       "dtype('int64')"
      ]
     },
     "execution_count": 5,
     "metadata": {},
     "output_type": "execute_result"
    }
   ],
   "source": [
    "my_array.dtype"
   ]
  },
  {
   "cell_type": "markdown",
   "metadata": {},
   "source": [
    "In addition, once an array is created, its size is fixed. You cannot pop or append to an array because of the way that arrays allocate memory. The fixed size allows arrays to be optimized for high performance."
   ]
  },
  {
   "cell_type": "code",
   "execution_count": 6,
   "metadata": {
    "collapsed": false
   },
   "outputs": [],
   "source": [
    "new_array = np.array([5,10,15,20])"
   ]
  },
  {
   "cell_type": "code",
   "execution_count": 7,
   "metadata": {
    "collapsed": false
   },
   "outputs": [
    {
     "ename": "AttributeError",
     "evalue": "'numpy.ndarray' object has no attribute 'append'",
     "output_type": "error",
     "traceback": [
      "\u001b[0;31m---------------------------------------------------------------------------\u001b[0m",
      "\u001b[0;31mAttributeError\u001b[0m                            Traceback (most recent call last)",
      "\u001b[0;32m<ipython-input-7-6abe63df61d6>\u001b[0m in \u001b[0;36m<module>\u001b[0;34m()\u001b[0m\n\u001b[0;32m----> 1\u001b[0;31m \u001b[0mnew_array\u001b[0m\u001b[0;34m.\u001b[0m\u001b[0mappend\u001b[0m\u001b[0;34m(\u001b[0m\u001b[0;36m5\u001b[0m\u001b[0;34m)\u001b[0m\u001b[0;34m\u001b[0m\u001b[0m\n\u001b[0m",
      "\u001b[0;31mAttributeError\u001b[0m: 'numpy.ndarray' object has no attribute 'append'"
     ]
    }
   ],
   "source": [
    "new_array.append(5)"
   ]
  },
  {
   "cell_type": "code",
   "execution_count": 8,
   "metadata": {
    "collapsed": false
   },
   "outputs": [
    {
     "ename": "AttributeError",
     "evalue": "'numpy.ndarray' object has no attribute 'pop'",
     "output_type": "error",
     "traceback": [
      "\u001b[0;31m---------------------------------------------------------------------------\u001b[0m",
      "\u001b[0;31mAttributeError\u001b[0m                            Traceback (most recent call last)",
      "\u001b[0;32m<ipython-input-8-429e7ee3d43f>\u001b[0m in \u001b[0;36m<module>\u001b[0;34m()\u001b[0m\n\u001b[0;32m----> 1\u001b[0;31m \u001b[0mnew_array\u001b[0m\u001b[0;34m.\u001b[0m\u001b[0mpop\u001b[0m\u001b[0;34m(\u001b[0m\u001b[0;34m)\u001b[0m\u001b[0;34m\u001b[0m\u001b[0m\n\u001b[0m",
      "\u001b[0;31mAttributeError\u001b[0m: 'numpy.ndarray' object has no attribute 'pop'"
     ]
    }
   ],
   "source": [
    "new_array.pop()"
   ]
  },
  {
   "cell_type": "markdown",
   "metadata": {},
   "source": [
    "You can see in the error messages that the arrays we are dealing with have type `'numpy.ndarray'`. This stands for *n*-dimensional array. We can make *n* anything that we want.\n",
    "\n",
    "For example, we can create a two-dimensional matrix with uniformly distributed random numbers between 0 and 1."
   ]
  },
  {
   "cell_type": "code",
   "execution_count": 9,
   "metadata": {
    "collapsed": false
   },
   "outputs": [
    {
     "data": {
      "text/plain": [
       "array([[ 0.48895095,  0.53108007,  0.83126652,  0.05276777,  0.91766908],\n",
       "       [ 0.559353  ,  0.2924421 ,  0.23723199,  0.74765613,  0.41449872],\n",
       "       [ 0.82178602,  0.25544602,  0.08833865,  0.33556843,  0.81391929],\n",
       "       [ 0.09075031,  0.81790454,  0.08966302,  0.30264293,  0.62078301],\n",
       "       [ 0.90896921,  0.71795044,  0.905533  ,  0.77152949,  0.14777978]])"
      ]
     },
     "execution_count": 9,
     "metadata": {},
     "output_type": "execute_result"
    }
   ],
   "source": [
    "np.random.rand(5,5)"
   ]
  },
  {
   "cell_type": "markdown",
   "metadata": {},
   "source": [
    "Or we can create a three-dimensional cube of numbers."
   ]
  },
  {
   "cell_type": "code",
   "execution_count": 10,
   "metadata": {
    "collapsed": false
   },
   "outputs": [
    {
     "data": {
      "text/plain": [
       "array([[[ 0.09292843,  0.84996543,  0.54278522,  0.4080527 ,  0.56182346],\n",
       "        [ 0.8690863 ,  0.42678163,  0.20548377,  0.09391622,  0.06790999],\n",
       "        [ 0.52307983,  0.5417984 ,  0.86732911,  0.76068987,  0.42596419],\n",
       "        [ 0.69404209,  0.77561453,  0.816751  ,  0.62338596,  0.79767502],\n",
       "        [ 0.74857871,  0.28675557,  0.38688043,  0.14561997,  0.28076885]],\n",
       "\n",
       "       [[ 0.62731488,  0.49742754,  0.17906236,  0.06495931,  0.69149094],\n",
       "        [ 0.99392801,  0.66404191,  0.15327014,  0.80213532,  0.90533983],\n",
       "        [ 0.47418441,  0.22553504,  0.61280528,  0.04364573,  0.3267768 ],\n",
       "        [ 0.86000949,  0.94552533,  0.67285429,  0.57253297,  0.44285915],\n",
       "        [ 0.93269526,  0.04407929,  0.30999918,  0.73114912,  0.44195391]],\n",
       "\n",
       "       [[ 0.74563477,  0.25934175,  0.45837259,  0.20245146,  0.55163637],\n",
       "        [ 0.02841645,  0.99687909,  0.11617672,  0.64755513,  0.16502913],\n",
       "        [ 0.99695806,  0.44996004,  0.07398955,  0.32187665,  0.43132456],\n",
       "        [ 0.61212869,  0.45391242,  0.10948075,  0.97574027,  0.44521973],\n",
       "        [ 0.88129677,  0.4475634 ,  0.84370943,  0.15659341,  0.6451987 ]],\n",
       "\n",
       "       [[ 0.69430498,  0.86073022,  0.49991851,  0.10743521,  0.98851782],\n",
       "        [ 0.5361722 ,  0.7746442 ,  0.72579213,  0.15423805,  0.18077305],\n",
       "        [ 0.78993479,  0.33250374,  0.08872906,  0.50810506,  0.21624231],\n",
       "        [ 0.78657254,  0.86677852,  0.44977177,  0.2134275 ,  0.59503952],\n",
       "        [ 0.10515188,  0.99836532,  0.29099796,  0.52476717,  0.48868423]],\n",
       "\n",
       "       [[ 0.05231108,  0.72294   ,  0.41666532,  0.30129508,  0.63076567],\n",
       "        [ 0.70496143,  0.78637524,  0.90961103,  0.82067898,  0.87773316],\n",
       "        [ 0.59189355,  0.72327632,  0.30019427,  0.5439272 ,  0.43330516],\n",
       "        [ 0.89207317,  0.69127592,  0.92088462,  0.44136669,  0.59266128],\n",
       "        [ 0.50790573,  0.34666573,  0.42760652,  0.00615325,  0.74125672]]])"
      ]
     },
     "execution_count": 10,
     "metadata": {},
     "output_type": "execute_result"
    }
   ],
   "source": [
    "np.random.rand(5,5,5)"
   ]
  },
  {
   "cell_type": "markdown",
   "metadata": {},
   "source": [
    "We can keep going to higher and higher dimensional spaces, but doing so is outside the scope of this course."
   ]
  },
  {
   "cell_type": "markdown",
   "metadata": {},
   "source": [
    "The random numbers we generated above were drawn from a uniform probability distribution. This is a very simple distribution, equal to 1, between 0 and 1, and 0 everywhere else. NumPy gives us many other distributions to work with, however."
   ]
  },
  {
   "cell_type": "code",
   "execution_count": 11,
   "metadata": {
    "collapsed": true
   },
   "outputs": [],
   "source": [
    "np.random?"
   ]
  },
  {
   "cell_type": "markdown",
   "metadata": {},
   "source": [
    "We can see that there are a variety of functions at our disposal. Let's get some uniformly distributed random variables."
   ]
  },
  {
   "cell_type": "code",
   "execution_count": 11,
   "metadata": {
    "collapsed": false
   },
   "outputs": [
    {
     "data": {
      "text/plain": [
       "array([-0.40876326, -0.55517236, -1.32981788, -0.12438743, -0.6348719 ,\n",
       "        0.28520215, -1.59223946,  1.44111822,  3.23274986, -1.341104  ,\n",
       "       -0.99081505, -0.10248169,  0.66980884,  1.15958509, -0.27003221,\n",
       "        0.05150114, -0.17999232,  0.00738674, -0.84577716,  1.38380398])"
      ]
     },
     "execution_count": 11,
     "metadata": {},
     "output_type": "execute_result"
    }
   ],
   "source": [
    "np.random.randn(20)"
   ]
  },
  {
   "cell_type": "markdown",
   "metadata": {},
   "source": [
    "Now that we have this array of normal random variables, let's reshape it into a matrix. This is done with the reshape method."
   ]
  },
  {
   "cell_type": "code",
   "execution_count": 12,
   "metadata": {
    "collapsed": false
   },
   "outputs": [],
   "source": [
    "ar = np.random.randn(20).reshape(5,4)"
   ]
  },
  {
   "cell_type": "code",
   "execution_count": 13,
   "metadata": {
    "collapsed": false
   },
   "outputs": [
    {
     "data": {
      "text/plain": [
       "array([[ 1.36002197, -0.34823936, -0.542834  , -0.21244252],\n",
       "       [-0.00597218,  1.44837198, -0.74547986,  0.13732181],\n",
       "       [ 1.22370968, -1.60648883, -0.3035393 ,  0.28673981],\n",
       "       [ 0.64209514, -0.4504376 ,  0.35088428,  1.0969273 ],\n",
       "       [ 0.07701238,  0.41407872, -0.46149942,  1.55340633]])"
      ]
     },
     "execution_count": 13,
     "metadata": {},
     "output_type": "execute_result"
    }
   ],
   "source": [
    "ar"
   ]
  },
  {
   "cell_type": "markdown",
   "metadata": {},
   "source": [
    "When you are working with data, you will often need to calculate some statistics from it. NumPy arrays have a lot of integrated common statistical functions.  To see an example, let's get the mean of our array."
   ]
  },
  {
   "cell_type": "code",
   "execution_count": 14,
   "metadata": {
    "collapsed": false
   },
   "outputs": [
    {
     "data": {
      "text/plain": [
       "0.19568181570971172"
      ]
     },
     "execution_count": 14,
     "metadata": {},
     "output_type": "execute_result"
    }
   ],
   "source": [
    "ar.mean()"
   ]
  },
  {
   "cell_type": "markdown",
   "metadata": {},
   "source": [
    "The standard deviation is just as easy."
   ]
  },
  {
   "cell_type": "code",
   "execution_count": 15,
   "metadata": {
    "collapsed": false
   },
   "outputs": [
    {
     "data": {
      "text/plain": [
       "0.81286346187291725"
      ]
     },
     "execution_count": 15,
     "metadata": {},
     "output_type": "execute_result"
    }
   ],
   "source": [
    "ar.std()"
   ]
  },
  {
   "cell_type": "markdown",
   "metadata": {},
   "source": [
    "Sometimes we will want to do these operations on each column or on each row. Doing so is still easy."
   ]
  },
  {
   "cell_type": "markdown",
   "metadata": {},
   "source": [
    "Here are the means of each column."
   ]
  },
  {
   "cell_type": "code",
   "execution_count": 16,
   "metadata": {
    "collapsed": false
   },
   "outputs": [
    {
     "data": {
      "text/plain": [
       "array([ 0.6593734 , -0.10854302, -0.34049366,  0.57239055])"
      ]
     },
     "execution_count": 16,
     "metadata": {},
     "output_type": "execute_result"
    }
   ],
   "source": [
    "ar.mean(axis=0)"
   ]
  },
  {
   "cell_type": "markdown",
   "metadata": {},
   "source": [
    "Here are the means of each row."
   ]
  },
  {
   "cell_type": "code",
   "execution_count": 18,
   "metadata": {
    "collapsed": false
   },
   "outputs": [
    {
     "data": {
      "text/plain": [
       "array([ 0.49062575,  0.48989976, -0.33466518, -0.19144381,  0.36251969])"
      ]
     },
     "execution_count": 18,
     "metadata": {},
     "output_type": "execute_result"
    }
   ],
   "source": [
    "ar.mean(axis=1)"
   ]
  },
  {
   "cell_type": "markdown",
   "metadata": {},
   "source": [
    "This lesson has only begun to scratch the surface of NumPy's capabilities.  The NumPy library is huge, and no one class could truly cover all of it. Additionally, NumPy has a partner library, SciPy (which stands for *scientific Python*), that builds on NumPy and adds a great deal of advanced functionality. We will return to NumPy later in this course. You will learn more about SciPy as you continue through the data science program."
   ]
  }
 ],
 "metadata": {
  "kernelspec": {
   "display_name": "Python 3",
   "language": "python",
   "name": "python3"
  },
  "language_info": {
   "codemirror_mode": {
    "name": "ipython",
    "version": 3
   },
   "file_extension": ".py",
   "mimetype": "text/x-python",
   "name": "python",
   "nbconvert_exporter": "python",
   "pygments_lexer": "ipython3",
   "version": "3.5.1"
  }
 },
 "nbformat": 4,
 "nbformat_minor": 0
}
